{
 "cells": [
  {
   "cell_type": "code",
   "execution_count": 2,
   "metadata": {},
   "outputs": [
    {
     "name": "stdout",
     "output_type": "stream",
     "text": [
      "4.5\n"
     ]
    }
   ],
   "source": [
    "# 2*x = 9\n",
    "def linear_solve(a, b):\n",
    "    return b / a\n",
    "print(linear_solve(2, 9))"
   ]
  },
  {
   "cell_type": "code",
   "execution_count": 3,
   "metadata": {},
   "outputs": [
    {
     "ename": "ZeroDivisionError",
     "evalue": "division by zero",
     "output_type": "error",
     "traceback": [
      "\u001b[1;31m---------------------------------------------------------------------------\u001b[0m",
      "\u001b[1;31mZeroDivisionError\u001b[0m                         Traceback (most recent call last)",
      "\u001b[1;32m<ipython-input-3-5b2738fa9304>\u001b[0m in \u001b[0;36m<module>\u001b[1;34m\u001b[0m\n\u001b[0;32m      1\u001b[0m \u001b[1;31m# 0*x = 1\u001b[0m\u001b[1;33m\u001b[0m\u001b[1;33m\u001b[0m\u001b[1;33m\u001b[0m\u001b[0m\n\u001b[1;32m----> 2\u001b[1;33m \u001b[0mprint\u001b[0m\u001b[1;33m(\u001b[0m\u001b[0mlinear_solve\u001b[0m\u001b[1;33m(\u001b[0m\u001b[1;36m0\u001b[0m\u001b[1;33m,\u001b[0m\u001b[1;36m1\u001b[0m\u001b[1;33m)\u001b[0m\u001b[1;33m)\u001b[0m\u001b[1;33m\u001b[0m\u001b[1;33m\u001b[0m\u001b[0m\n\u001b[0m",
      "\u001b[1;32m<ipython-input-2-93597258f8ec>\u001b[0m in \u001b[0;36mlinear_solve\u001b[1;34m(a, b)\u001b[0m\n\u001b[0;32m      1\u001b[0m \u001b[1;31m# 2*x = 9\u001b[0m\u001b[1;33m\u001b[0m\u001b[1;33m\u001b[0m\u001b[1;33m\u001b[0m\u001b[0m\n\u001b[0;32m      2\u001b[0m \u001b[1;32mdef\u001b[0m \u001b[0mlinear_solve\u001b[0m\u001b[1;33m(\u001b[0m\u001b[0ma\u001b[0m\u001b[1;33m,\u001b[0m \u001b[0mb\u001b[0m\u001b[1;33m)\u001b[0m\u001b[1;33m:\u001b[0m\u001b[1;33m\u001b[0m\u001b[1;33m\u001b[0m\u001b[0m\n\u001b[1;32m----> 3\u001b[1;33m     \u001b[1;32mreturn\u001b[0m \u001b[0mb\u001b[0m \u001b[1;33m/\u001b[0m \u001b[0ma\u001b[0m\u001b[1;33m\u001b[0m\u001b[1;33m\u001b[0m\u001b[0m\n\u001b[0m\u001b[0;32m      4\u001b[0m \u001b[0mprint\u001b[0m\u001b[1;33m(\u001b[0m\u001b[0mlinear_solve\u001b[0m\u001b[1;33m(\u001b[0m\u001b[1;36m2\u001b[0m\u001b[1;33m,\u001b[0m \u001b[1;36m9\u001b[0m\u001b[1;33m)\u001b[0m\u001b[1;33m)\u001b[0m\u001b[1;33m\u001b[0m\u001b[1;33m\u001b[0m\u001b[0m\n",
      "\u001b[1;31mZeroDivisionError\u001b[0m: division by zero"
     ]
    }
   ],
   "source": [
    "# 0*x = 1\n",
    "print(linear_solve(0,1))"
   ]
  },
  {
   "cell_type": "code",
   "execution_count": 4,
   "metadata": {},
   "outputs": [],
   "source": [
    "def linear_solve(a, b):\n",
    "    if a: # помним, что 0 интерпретируется как False, иначе True\n",
    "        return b / a\n",
    "    else:\n",
    "        return \"Нет корней\""
   ]
  },
  {
   "cell_type": "code",
   "execution_count": 17,
   "metadata": {},
   "outputs": [
    {
     "name": "stdout",
     "output_type": "stream",
     "text": [
      "0.0\n"
     ]
    }
   ],
   "source": [
    "def linear_solve(a, b):\n",
    "    if a: \n",
    "        return b / a\n",
    "    elif not a and not b: # снова используем числа в логических выражениях\n",
    "        return \"Бесконечное количество корней\"\n",
    "    else:\n",
    "        return \"Нет корней\"  \n",
    "print(linear_solve(2, 0))"
   ]
  },
  {
   "cell_type": "code",
   "execution_count": null,
   "metadata": {},
   "outputs": [],
   "source": [
    "\n",
    "\n",
    "# a*x**2 + b*x + c = 0 — общий вид уравнения\n",
    "# D = b**2 - 4*a*c — дискриминант\n",
    "# Если D<0, то уравнение не имеет вещественных корней\n",
    "# Если D=0, то уравнение имеет один корень — x = -b/(2*a)\n",
    "# Если D>0, то уравнение имеет два корня\n",
    "# x1 = (-b - D**0.5)/(2*a)\n",
    "# x2 = (-b + D**0.5)/(2*a)\n",
    "#\n",
    "# P.S. D**0.5 — равносильно извлечению квадратного корня\n",
    "\n"
   ]
  },
  {
   "cell_type": "code",
   "execution_count": 31,
   "metadata": {},
   "outputs": [
    {
     "name": "stdout",
     "output_type": "stream",
     "text": [
      "-8\n"
     ]
    }
   ],
   "source": [
    "def D(a, b,c):\n",
    "    D = b**2-4*a*c\n",
    "    return D\n",
    "print(D(1,2,3))"
   ]
  },
  {
   "cell_type": "code",
   "execution_count": 42,
   "metadata": {},
   "outputs": [
    {
     "name": "stdout",
     "output_type": "stream",
     "text": [
      "-8\n"
     ]
    }
   ],
   "source": [
    "def D(a, b,c):\n",
    "    D = b**2-4*a*c\n",
    "    return D\n",
    "    if D<0:\n",
    "        return (\"уравнение не имеет вещественных корней\")\n",
    "    elif D==0:\n",
    "        return (\"уравнение имеет один корень\")\n",
    "    else:\n",
    "        return (\"уравнение имеет два корня\")\n",
    "print(D(1,2,3))"
   ]
  },
  {
   "cell_type": "code",
   "execution_count": 72,
   "metadata": {},
   "outputs": [
    {
     "name": "stdout",
     "output_type": "stream",
     "text": [
      "(-1.632455532033676, -0.3675444679663241)\n"
     ]
    }
   ],
   "source": [
    "def quadratic_solve(a, b, c):\n",
    "    if (b**2-4*a*c)<0:\n",
    "        print(\"уравнение не имеет вещественных корней\")\n",
    "    elif (b**2-4*a*c)==0:\n",
    "        return \"уравнение имеет один корень\",-b / (2 * a)\n",
    "    else:\n",
    "        return (-b - (b**2-4*a*c)**0.5)/(2*a), (-b + (b**2-4*a*c)**0.5)/(2*a)\n",
    "        print (\"уравнение имеет два корня\")\n",
    "print(quadratic_solve(5,10,3))\n"
   ]
  },
  {
   "cell_type": "code",
   "execution_count": 79,
   "metadata": {},
   "outputs": [
    {
     "data": {
      "text/plain": [
       "54321"
      ]
     },
     "execution_count": 79,
     "metadata": {},
     "output_type": "execute_result"
    }
   ],
   "source": [
    "def mirror(a, res=0):\n",
    "    return mirror(a // 10, res*10 + a % 10) if a else res \n",
    "mirror(12345, res=0)"
   ]
  },
  {
   "cell_type": "code",
   "execution_count": 71,
   "metadata": {},
   "outputs": [
    {
     "name": "stdout",
     "output_type": "stream",
     "text": [
      "(-1.632455532033676, -0.3675444679663241)\n"
     ]
    }
   ],
   "source": [
    "def quadratic_solve(a, b, c):\n",
    "    if D(a, b, c) < 0:\n",
    "        return \"Нет вещественных корней\"\n",
    "    elif D(a, b, c) == 0:\n",
    "        return -b / (2 * a)\n",
    "    else:\n",
    "        return (-b - D(a,b,c) ** 0.5) / (2 * a), (-b + D(a, b, c) ** 0.5) / (2 * a)\n",
    "print(quadratic_solve(5,10,3))"
   ]
  },
  {
   "cell_type": "code",
   "execution_count": 3,
   "metadata": {},
   "outputs": [
    {
     "name": "stdout",
     "output_type": "stream",
     "text": [
      "True\n"
     ]
    }
   ],
   "source": [
    "def equal(N, S):\n",
    "    if S < 0:\n",
    "        return False\n",
    "    elif N < 10:\n",
    "        return N == S\n",
    "    else:\n",
    "        return equal(N // 10, S - N % 10) \n",
    "print(equal(121, 4))"
   ]
  },
  {
   "cell_type": "code",
   "execution_count": 4,
   "metadata": {},
   "outputs": [
    {
     "name": "stdout",
     "output_type": "stream",
     "text": [
      "[-2, 0, 2]\n"
     ]
    }
   ],
   "source": [
    "def chet(x):\n",
    "    return x%2==0  # функция возвращает только True или False\n",
    "\n",
    "\n",
    "result = filter(chet, [-2, -1, 0, 1, -3, 2, -3] )\n",
    "\n",
    "# Возвращается итератор, т.е. перечисляйте или приводите к списку\n",
    "print(list(result))   # [1, 2]"
   ]
  },
  {
   "cell_type": "code",
   "execution_count": 5,
   "metadata": {},
   "outputs": [
    {
     "name": "stdout",
     "output_type": "stream",
     "text": [
      "[-10, -9, -8, -7, -6, -5, -4, -3, -2, -1, 0, 1, 2, 3, 4, 5, 6, 7, 8, 9]\n",
      "[1, 4, 9, 16, 25, 36, 49, 64, 81]\n"
     ]
    }
   ],
   "source": [
    "# map + filter\n",
    "some_list = [i - 10 for i in range(20)]\n",
    "def pow2(x): return x**2\n",
    "def positive(x): return x > 0\n",
    "\n",
    "print(some_list)\n",
    "print(list(map(pow2, filter(positive, some_list))))"
   ]
  },
  {
   "cell_type": "code",
   "execution_count": 8,
   "metadata": {},
   "outputs": [
    {
     "name": "stdout",
     "output_type": "stream",
     "text": [
      "(76, 184)\n"
     ]
    }
   ],
   "source": [
    "# (вес, рост)\n",
    "data = [\n",
    "   (82, 191),\n",
    "   (68, 174),\n",
    "   (90, 189),\n",
    "   (73, 179),\n",
    "   (76, 184)\n",
    "]\n",
    "sorted(data, key = lambda x: x[0] / x[1] ** 2)\n",
    "print(min(data, key=lambda x: x[0] / x[1] ** 2))  # отбор по ключу\n"
   ]
  },
  {
   "cell_type": "code",
   "execution_count": 17,
   "metadata": {},
   "outputs": [
    {
     "data": {
      "text/plain": [
       "[3, 3, 4, 4]"
      ]
     },
     "execution_count": 17,
     "metadata": {},
     "output_type": "execute_result"
    }
   ],
   "source": [
    "a = [\"asd\", \"bbd\", \"ddfa\", \"mcsa\"]\n",
    "#бы вывести длину каждого элемента в списке. \n",
    "list(map(len, a))"
   ]
  },
  {
   "cell_type": "code",
   "execution_count": 30,
   "metadata": {},
   "outputs": [
    {
     "data": {
      "text/plain": [
       "['ЭТО', 'МАЛЕНЬКИЙ', 'ТЕКСТ', 'ОБИДНО']"
      ]
     },
     "execution_count": 30,
     "metadata": {},
     "output_type": "execute_result"
    }
   ],
   "source": [
    "#Переведите все строки из списка в верхний регистр (заглавные буквы). \n",
    "a = [\"это\", \"маленький\", \"текст\", \"обидно\"]\n",
    "list(map(str.upper, a))"
   ]
  }
 ],
 "metadata": {
  "kernelspec": {
   "display_name": "Python 3",
   "language": "python",
   "name": "python3"
  },
  "language_info": {
   "codemirror_mode": {
    "name": "ipython",
    "version": 3
   },
   "file_extension": ".py",
   "mimetype": "text/x-python",
   "name": "python",
   "nbconvert_exporter": "python",
   "pygments_lexer": "ipython3",
   "version": "3.8.5"
  }
 },
 "nbformat": 4,
 "nbformat_minor": 4
}
